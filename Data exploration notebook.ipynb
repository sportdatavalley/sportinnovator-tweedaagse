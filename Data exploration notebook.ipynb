{
 "cells": [
  {
   "cell_type": "markdown",
   "metadata": {
    "slideshow": {
     "slide_type": "slide"
    }
   },
   "source": [
    "# Sportinnovator Tweedaagse data exploration notebook"
   ]
  },
  {
   "cell_type": "markdown",
   "metadata": {},
   "source": [
    "# Introductie\n",
    "\n",
    "Dit Jupyter Notebook bevat de code om de open data die is gebruikt tijdens de Sport Data Challenge te verkennen.\n",
    "Als je dit Notebook interactief opent kun je alle \"cellen\" met code uitvoeren door met de cursor in de cel te gaan en op Shift+Enter te drukken."
   ]
  },
  {
   "cell_type": "markdown",
   "metadata": {
    "slideshow": {
     "slide_type": "slide"
    }
   },
   "source": [
    "# Initializatie"
   ]
  },
  {
   "cell_type": "code",
   "execution_count": 1,
   "metadata": {},
   "outputs": [],
   "source": [
    "import datetime\n",
    "from functools import lru_cache\n",
    "from pathlib import Path\n",
    "\n",
    "import ipywidgets as widgets\n",
    "import matplotlib.pyplot as plt\n",
    "import pandas as pd\n",
    "from ipyleaflet import Map, Marker, Polyline\n",
    "from ipywidgets import interact\n",
    "\n",
    "\n",
    "%matplotlib inline\n",
    "\n",
    "available_courses = [\n",
    "    ('Amsterdam marathon', 'https://github.com/sportdatavalley/sport-data-challenge-2019/raw/master/data/courses/amsterdam_marathon.csv'),\n",
    "    ('Dam tot Damloop', 'https://github.com/sportdatavalley/sport-data-challenge-2019/raw/master/data/courses/dam_tot_damloop.csv'),\n",
    "    ('Egmond halve marathon', 'https://github.com/sportdatavalley/sport-data-challenge-2019/raw/master/data/courses/egmond_halve_marathon.csv')\n",
    "]"
   ]
  },
  {
   "cell_type": "markdown",
   "metadata": {
    "slideshow": {
     "slide_type": "slide"
    }
   },
   "source": [
    "# Parcours-verkenning"
   ]
  },
  {
   "cell_type": "code",
   "execution_count": 2,
   "metadata": {},
   "outputs": [
    {
     "data": {
      "text/html": [
       "<div>\n",
       "<style scoped>\n",
       "    .dataframe tbody tr th:only-of-type {\n",
       "        vertical-align: middle;\n",
       "    }\n",
       "\n",
       "    .dataframe tbody tr th {\n",
       "        vertical-align: top;\n",
       "    }\n",
       "\n",
       "    .dataframe thead th {\n",
       "        text-align: right;\n",
       "    }\n",
       "</style>\n",
       "<table border=\"1\" class=\"dataframe\">\n",
       "  <thead>\n",
       "    <tr style=\"text-align: right;\">\n",
       "      <th></th>\n",
       "      <th>distance</th>\n",
       "      <th>altitude</th>\n",
       "      <th>latitude</th>\n",
       "      <th>longitude</th>\n",
       "    </tr>\n",
       "  </thead>\n",
       "  <tbody>\n",
       "    <tr>\n",
       "      <th>0</th>\n",
       "      <td>0.000000</td>\n",
       "      <td>2.28</td>\n",
       "      <td>52.34379</td>\n",
       "      <td>4.85345</td>\n",
       "    </tr>\n",
       "    <tr>\n",
       "      <th>1</th>\n",
       "      <td>8.929578</td>\n",
       "      <td>2.23</td>\n",
       "      <td>52.34387</td>\n",
       "      <td>4.85344</td>\n",
       "    </tr>\n",
       "    <tr>\n",
       "      <th>2</th>\n",
       "      <td>18.969239</td>\n",
       "      <td>1.96</td>\n",
       "      <td>52.34396</td>\n",
       "      <td>4.85345</td>\n",
       "    </tr>\n",
       "    <tr>\n",
       "      <th>3</th>\n",
       "      <td>35.472786</td>\n",
       "      <td>1.66</td>\n",
       "      <td>52.34410</td>\n",
       "      <td>4.85353</td>\n",
       "    </tr>\n",
       "    <tr>\n",
       "      <th>4</th>\n",
       "      <td>51.850438</td>\n",
       "      <td>1.52</td>\n",
       "      <td>52.34421</td>\n",
       "      <td>4.85369</td>\n",
       "    </tr>\n",
       "  </tbody>\n",
       "</table>\n",
       "</div>"
      ],
      "text/plain": [
       "    distance  altitude  latitude  longitude\n",
       "0   0.000000      2.28  52.34379    4.85345\n",
       "1   8.929578      2.23  52.34387    4.85344\n",
       "2  18.969239      1.96  52.34396    4.85345\n",
       "3  35.472786      1.66  52.34410    4.85353\n",
       "4  51.850438      1.52  52.34421    4.85369"
      ]
     },
     "execution_count": 2,
     "metadata": {},
     "output_type": "execute_result"
    }
   ],
   "source": [
    "amsterdam_course = pd.read_csv(available_courses[0][1])\n",
    "amsterdam_course.head()"
   ]
  },
  {
   "cell_type": "markdown",
   "metadata": {
    "slideshow": {
     "slide_type": "subslide"
    }
   },
   "source": [
    "# Kaart"
   ]
  },
  {
   "cell_type": "code",
   "execution_count": 39,
   "metadata": {},
   "outputs": [
    {
     "data": {
      "application/vnd.jupyter.widget-view+json": {
       "model_id": "64ba58ff0da54e0194a3715b5172568f",
       "version_major": 2,
       "version_minor": 0
      },
      "text/plain": [
       "interactive(children=(Dropdown(description='Selecteer:', options=(('Amsterdam marathon', 'https://github.com/s…"
      ]
     },
     "metadata": {},
     "output_type": "display_data"
    }
   ],
   "source": [
    "available_courses = [\n",
    "    ('Amsterdam marathon', 'https://github.com/sportdatavalley/sport-data-challenge-2019/raw/master/data/courses/amsterdam_marathon.csv'),\n",
    "    ('Dam tot Damloop', 'https://github.com/sportdatavalley/sport-data-challenge-2019/raw/master/data/courses/dam_tot_damloop.csv'),\n",
    "    ('Egmond halve marathon', 'https://github.com/sportdatavalley/sport-data-challenge-2019/raw/master/data/courses/egmond_halve_marathon.csv')\n",
    "]\n",
    "\n",
    "select_course = widgets.Dropdown(\n",
    "    options=available_courses,\n",
    "    value=None,\n",
    "    description='Selecteer:'\n",
    ")\n",
    "\n",
    "\n",
    "mark_course = widgets.SelectionSlider(\n",
    "    options=[[0, [0, 0, 0]]],\n",
    "    description='Markeer:',\n",
    "    continuous_update=False\n",
    ")\n",
    "mark_course.layout.width = '90%'\n",
    "\n",
    "\n",
    "def change_mark_course_options(course_selection):\n",
    "    course = fetch_course(course_selection.new)\n",
    "    markers = course['distance'].apply(lambda x: x/1000.).round(1)\n",
    "    mark_course.options = list(zip(markers, list(zip(course['distance'], course['latitude'], course['longitude']))))\n",
    "\n",
    "select_course.observe(change_mark_course_options, 'value')\n",
    "\n",
    "\n",
    "@lru_cache(maxsize=128)\n",
    "def fetch_course(course_selection):\n",
    "    return pd.read_csv(course_selection)\n",
    "\n",
    "\n",
    "@interact(course_selection=select_course, marker_selection=mark_course)\n",
    "def plot_course(course_selection, marker_selection):\n",
    "    if course_selection is None:\n",
    "        return\n",
    "\n",
    "    course = fetch_course(course_selection)\n",
    "    \n",
    "    # plot course map\n",
    "    race_locations = zip(course['latitude'].to_list(), course['longitude'].to_list())\n",
    "    line = Polyline(\n",
    "        locations = [[race_locations]],\n",
    "        color=\"red\",\n",
    "        fill=False,\n",
    "        weight=3\n",
    "    )\n",
    "    marker = Marker(location=marker_selection[1:], draggable=False)\n",
    "    m = Map(center = (course['latitude'].mean(), course['longitude'].mean()))\n",
    "    m.add_layer(line)\n",
    "    m.add_layer(marker);\n",
    "    display(m)\n",
    "    \n",
    "    # plot altitude profile\n",
    "    fig = plt.figure(figsize=(15, 3))\n",
    "    ax = plt.axes()\n",
    "    ax.plot(course['distance'], course['altitude']);\n",
    "    ax.fill_between(course['distance'], 0, course['altitude'])\n",
    "    ax.axvline(marker_selection[0], linewidth=2, color='r')"
   ]
  },
  {
   "cell_type": "markdown",
   "metadata": {
    "slideshow": {
     "slide_type": "subslide"
    }
   },
   "source": [
    "## Hoogteprofiel"
   ]
  },
  {
   "cell_type": "code",
   "execution_count": 4,
   "metadata": {},
   "outputs": [
    {
     "data": {
      "text/plain": [
       "<matplotlib.axes._subplots.AxesSubplot at 0x7f9bd18a66d0>"
      ]
     },
     "execution_count": 4,
     "metadata": {},
     "output_type": "execute_result"
    },
    {
     "data": {
      "image/png": "[encoded data removed]",
      "text/plain": [
       "<Figure size 1080x360 with 1 Axes>"
      ]
     },
     "metadata": {
      "needs_background": "light"
     },
     "output_type": "display_data"
    }
   ],
   "source": [
    "course = fetch_course(available_courses[2][1])\n",
    "course.plot(x='distance', y='altitude', figsize=(15, 5))"
   ]
  },
  {
   "cell_type": "code",
   "execution_count": 5,
   "metadata": {},
   "outputs": [
    {
     "data": {
      "text/plain": [
       "116.92000000000002"
      ]
     },
     "execution_count": 5,
     "metadata": {},
     "output_type": "execute_result"
    }
   ],
   "source": [
    "altitude_change = course['altitude'].diff()\n",
    "altitude_change.loc[altitude_change > 0].sum()"
   ]
  },
  {
   "cell_type": "markdown",
   "metadata": {
    "slideshow": {
     "slide_type": "slide"
    }
   },
   "source": [
    "# Race results"
   ]
  },
  {
   "cell_type": "code",
   "execution_count": 6,
   "metadata": {},
   "outputs": [],
   "source": [
    "race_results = pd.read_csv('https://github.com/sportdatavalley/sport-data-challenge-2019/raw/master/data/race_results/results.csv')"
   ]
  },
  {
   "cell_type": "code",
   "execution_count": 7,
   "metadata": {},
   "outputs": [
    {
     "data": {
      "text/html": [
       "<div>\n",
       "<style scoped>\n",
       "    .dataframe tbody tr th:only-of-type {\n",
       "        vertical-align: middle;\n",
       "    }\n",
       "\n",
       "    .dataframe tbody tr th {\n",
       "        vertical-align: top;\n",
       "    }\n",
       "\n",
       "    .dataframe thead th {\n",
       "        text-align: right;\n",
       "    }\n",
       "</style>\n",
       "<table border=\"1\" class=\"dataframe\">\n",
       "  <thead>\n",
       "    <tr style=\"text-align: right;\">\n",
       "      <th></th>\n",
       "      <th>id</th>\n",
       "      <th>hashed_name</th>\n",
       "      <th>event_name</th>\n",
       "      <th>date</th>\n",
       "      <th>race</th>\n",
       "      <th>distance</th>\n",
       "      <th>category</th>\n",
       "      <th>gun_time_seconds</th>\n",
       "      <th>chip_time_seconds</th>\n",
       "      <th>split_5k</th>\n",
       "      <th>...</th>\n",
       "      <th>split_5km</th>\n",
       "      <th>split_3km</th>\n",
       "      <th>split_6km</th>\n",
       "      <th>split_20km</th>\n",
       "      <th>split_24km</th>\n",
       "      <th>split_25km</th>\n",
       "      <th>split_29km</th>\n",
       "      <th>split_10km</th>\n",
       "      <th>split_15km</th>\n",
       "      <th>split_19,5km</th>\n",
       "    </tr>\n",
       "  </thead>\n",
       "  <tbody>\n",
       "    <tr>\n",
       "      <th>0</th>\n",
       "      <td>9d41c868d4d846e1aba9628bf28fcdaf</td>\n",
       "      <td>454befe83c6c74a2427be534ab239744</td>\n",
       "      <td>amsterdam_marathon</td>\n",
       "      <td>2019-10-20</td>\n",
       "      <td>tcs_marathon</td>\n",
       "      <td>42195</td>\n",
       "      <td>Msen</td>\n",
       "      <td>7509.0</td>\n",
       "      <td>7509</td>\n",
       "      <td>886.0</td>\n",
       "      <td>...</td>\n",
       "      <td>NaN</td>\n",
       "      <td>NaN</td>\n",
       "      <td>NaN</td>\n",
       "      <td>NaN</td>\n",
       "      <td>NaN</td>\n",
       "      <td>NaN</td>\n",
       "      <td>NaN</td>\n",
       "      <td>NaN</td>\n",
       "      <td>NaN</td>\n",
       "      <td>NaN</td>\n",
       "    </tr>\n",
       "    <tr>\n",
       "      <th>1</th>\n",
       "      <td>c44c5d1fa7df4d3b8fe6e8c83b91d39d</td>\n",
       "      <td>febf592e66777acd015c7d8fbbed6278</td>\n",
       "      <td>amsterdam_marathon</td>\n",
       "      <td>2019-10-20</td>\n",
       "      <td>tcs_marathon</td>\n",
       "      <td>42195</td>\n",
       "      <td>Msen</td>\n",
       "      <td>7516.0</td>\n",
       "      <td>7516</td>\n",
       "      <td>888.0</td>\n",
       "      <td>...</td>\n",
       "      <td>NaN</td>\n",
       "      <td>NaN</td>\n",
       "      <td>NaN</td>\n",
       "      <td>NaN</td>\n",
       "      <td>NaN</td>\n",
       "      <td>NaN</td>\n",
       "      <td>NaN</td>\n",
       "      <td>NaN</td>\n",
       "      <td>NaN</td>\n",
       "      <td>NaN</td>\n",
       "    </tr>\n",
       "    <tr>\n",
       "      <th>2</th>\n",
       "      <td>8ba67b4ee49d4d9ba3f07d973f2aa68a</td>\n",
       "      <td>5aab51da37c6af5a554767d656409884</td>\n",
       "      <td>amsterdam_marathon</td>\n",
       "      <td>2019-10-20</td>\n",
       "      <td>tcs_marathon</td>\n",
       "      <td>42195</td>\n",
       "      <td>Msen</td>\n",
       "      <td>7518.0</td>\n",
       "      <td>7518</td>\n",
       "      <td>887.0</td>\n",
       "      <td>...</td>\n",
       "      <td>NaN</td>\n",
       "      <td>NaN</td>\n",
       "      <td>NaN</td>\n",
       "      <td>NaN</td>\n",
       "      <td>NaN</td>\n",
       "      <td>NaN</td>\n",
       "      <td>NaN</td>\n",
       "      <td>NaN</td>\n",
       "      <td>NaN</td>\n",
       "      <td>NaN</td>\n",
       "    </tr>\n",
       "    <tr>\n",
       "      <th>3</th>\n",
       "      <td>e29d4bab3ae544758d37ae4e84dfe13e</td>\n",
       "      <td>1e4903b86edd92f88d809c1f6314f0ea</td>\n",
       "      <td>amsterdam_marathon</td>\n",
       "      <td>2019-10-20</td>\n",
       "      <td>tcs_marathon</td>\n",
       "      <td>42195</td>\n",
       "      <td>Msen</td>\n",
       "      <td>7528.0</td>\n",
       "      <td>7527</td>\n",
       "      <td>888.0</td>\n",
       "      <td>...</td>\n",
       "      <td>NaN</td>\n",
       "      <td>NaN</td>\n",
       "      <td>NaN</td>\n",
       "      <td>NaN</td>\n",
       "      <td>NaN</td>\n",
       "      <td>NaN</td>\n",
       "      <td>NaN</td>\n",
       "      <td>NaN</td>\n",
       "      <td>NaN</td>\n",
       "      <td>NaN</td>\n",
       "    </tr>\n",
       "    <tr>\n",
       "      <th>4</th>\n",
       "      <td>28c30392438b4c72bc870236dd9b47ac</td>\n",
       "      <td>c136182fd9f835630994bbbe2a45bb84</td>\n",
       "      <td>amsterdam_marathon</td>\n",
       "      <td>2019-10-20</td>\n",
       "      <td>tcs_marathon</td>\n",
       "      <td>42195</td>\n",
       "      <td>Msen</td>\n",
       "      <td>7564.0</td>\n",
       "      <td>7564</td>\n",
       "      <td>888.0</td>\n",
       "      <td>...</td>\n",
       "      <td>NaN</td>\n",
       "      <td>NaN</td>\n",
       "      <td>NaN</td>\n",
       "      <td>NaN</td>\n",
       "      <td>NaN</td>\n",
       "      <td>NaN</td>\n",
       "      <td>NaN</td>\n",
       "      <td>NaN</td>\n",
       "      <td>NaN</td>\n",
       "      <td>NaN</td>\n",
       "    </tr>\n",
       "  </tbody>\n",
       "</table>\n",
       "<p>5 rows × 30 columns</p>\n",
       "</div>"
      ],
      "text/plain": [
       "                                 id                       hashed_name  \\\n",
       "0  9d41c868d4d846e1aba9628bf28fcdaf  454befe83c6c74a2427be534ab239744   \n",
       "1  c44c5d1fa7df4d3b8fe6e8c83b91d39d  febf592e66777acd015c7d8fbbed6278   \n",
       "2  8ba67b4ee49d4d9ba3f07d973f2aa68a  5aab51da37c6af5a554767d656409884   \n",
       "3  e29d4bab3ae544758d37ae4e84dfe13e  1e4903b86edd92f88d809c1f6314f0ea   \n",
       "4  28c30392438b4c72bc870236dd9b47ac  c136182fd9f835630994bbbe2a45bb84   \n",
       "\n",
       "           event_name        date          race  distance category  \\\n",
       "0  amsterdam_marathon  2019-10-20  tcs_marathon     42195     Msen   \n",
       "1  amsterdam_marathon  2019-10-20  tcs_marathon     42195     Msen   \n",
       "2  amsterdam_marathon  2019-10-20  tcs_marathon     42195     Msen   \n",
       "3  amsterdam_marathon  2019-10-20  tcs_marathon     42195     Msen   \n",
       "4  amsterdam_marathon  2019-10-20  tcs_marathon     42195     Msen   \n",
       "\n",
       "   gun_time_seconds  chip_time_seconds  split_5k  ...  split_5km  split_3km  \\\n",
       "0            7509.0               7509     886.0  ...        NaN        NaN   \n",
       "1            7516.0               7516     888.0  ...        NaN        NaN   \n",
       "2            7518.0               7518     887.0  ...        NaN        NaN   \n",
       "3            7528.0               7527     888.0  ...        NaN        NaN   \n",
       "4            7564.0               7564     888.0  ...        NaN        NaN   \n",
       "\n",
       "   split_6km  split_20km  split_24km  split_25km  split_29km  split_10km  \\\n",
       "0        NaN         NaN         NaN         NaN         NaN         NaN   \n",
       "1        NaN         NaN         NaN         NaN         NaN         NaN   \n",
       "2        NaN         NaN         NaN         NaN         NaN         NaN   \n",
       "3        NaN         NaN         NaN         NaN         NaN         NaN   \n",
       "4        NaN         NaN         NaN         NaN         NaN         NaN   \n",
       "\n",
       "   split_15km  split_19,5km  \n",
       "0         NaN           NaN  \n",
       "1         NaN           NaN  \n",
       "2         NaN           NaN  \n",
       "3         NaN           NaN  \n",
       "4         NaN           NaN  \n",
       "\n",
       "[5 rows x 30 columns]"
      ]
     },
     "execution_count": 7,
     "metadata": {},
     "output_type": "execute_result"
    }
   ],
   "source": [
    "race_results.head()"
   ]
  },
  {
   "cell_type": "code",
   "execution_count": 8,
   "metadata": {},
   "outputs": [
    {
     "data": {
      "text/plain": [
       "Index(['id', 'hashed_name', 'event_name', 'date', 'race', 'distance',\n",
       "       'category', 'gun_time_seconds', 'chip_time_seconds', 'split_5k',\n",
       "       'split_10k', 'split_15k', 'split_20k', 'split_half', 'split_25k',\n",
       "       'split_30k', 'split_35k', 'split_40k', 'split_finish', 'split_4k',\n",
       "       'split_5km', 'split_3km', 'split_6km', 'split_20km', 'split_24km',\n",
       "       'split_25km', 'split_29km', 'split_10km', 'split_15km', 'split_19,5km'],\n",
       "      dtype='object')"
      ]
     },
     "execution_count": 8,
     "metadata": {},
     "output_type": "execute_result"
    }
   ],
   "source": [
    "race_results.columns"
   ]
  },
  {
   "cell_type": "code",
   "execution_count": 9,
   "metadata": {},
   "outputs": [
    {
     "data": {
      "text/plain": [
       "event_name             date      \n",
       "dam_tot_damloop        2017-09-17    48371\n",
       "                       2018-09-23    37566\n",
       "                       2016-09-18    37385\n",
       "amsterdam_marathon     2019-10-20    35633\n",
       "                       2018-10-21    35112\n",
       "                       2016-10-16    34348\n",
       "                       2017-10-15    34288\n",
       "dam_tot_damloop        2019-09-22    34142\n",
       "egmond_halve_marathon  2019-01-13    24938\n",
       "                       2018-01-14    15236\n",
       "                       2017-01-08    14211\n",
       "dam_tot_damloop        2018-09-22    10607\n",
       "                       2019-09-21     9387\n",
       "groet_uit_schoorl_run  2018-02-11     7992\n",
       "                       2017-02-12     7980\n",
       "                       2019-02-10     7896\n",
       "amsterdam_marathon     2019-10-21      882\n",
       "dtype: int64"
      ]
     },
     "execution_count": 9,
     "metadata": {},
     "output_type": "execute_result"
    }
   ],
   "source": [
    "race_results.groupby(['event_name', 'date']).size().sort_values(ascending=False)"
   ]
  },
  {
   "cell_type": "code",
   "execution_count": 10,
   "metadata": {},
   "outputs": [
    {
     "data": {
      "text/plain": [
       "16090    127809\n",
       "21097     84281\n",
       "42195     50083\n",
       "8047      31481\n",
       "8000      23307\n",
       "21096     13824\n",
       "10000     11757\n",
       "1000      11736\n",
       "10548     10649\n",
       "600        5734\n",
       "21195      4764\n",
       "30000      4125\n",
       "16093      4019\n",
       "2200       3291\n",
       "700        3270\n",
       "1200       2624\n",
       "1800       1184\n",
       "59097       876\n",
       "8045        628\n",
       "42192       262\n",
       "1400        261\n",
       "2600          9\n",
       "Name: distance, dtype: int64"
      ]
     },
     "execution_count": 10,
     "metadata": {},
     "output_type": "execute_result"
    }
   ],
   "source": [
    "race_results['distance'].value_counts()"
   ]
  },
  {
   "cell_type": "code",
   "execution_count": 11,
   "metadata": {},
   "outputs": [
    {
     "data": {
      "text/plain": [
       "array(['tcs_marathon', 'tcs_marathon_business_run',\n",
       "       'tcs_marathon_goede_doelen',\n",
       "       'tcs_marathon_nederlands_kampioenschap', 'mizuno_halve_marathon',\n",
       "       'mizuno_half_marathon_business_run',\n",
       "       'mizuno_half_marathon_goede_doelen', 'tcs_8_km',\n",
       "       'tcs_8_kilometer_business_run', 'tcs_8_kilometer_goede_doelen',\n",
       "       'kids_run', 'mizuno_half_marathon', 'tcs_8_kilometer',\n",
       "       '10_em_wedstrijd', '10_em_business_wedstrijd_mannen',\n",
       "       '10_em_business_wedstrijd_vrouwen', '10_em_business_recreatie',\n",
       "       '10_em_business_branches', '10_em_goede_doelen',\n",
       "       '10_em_recreatieloop', 'damloop_by_night_5_em_wedstrijd',\n",
       "       'damloop_by_night_5_em_businessloop',\n",
       "       'damloop_by_night_5_em_business_branches',\n",
       "       'damloop_by_night_5_em_recreatieloop',\n",
       "       'damloop_by_night_goede_doelen', 'damloop_by_night_wheelers',\n",
       "       'mini_dam_tot_damloop_zaandam_2,2_km_10-13_jr',\n",
       "       'mini_dam_tot_damloop_zaandam_1,2_km_9_jr',\n",
       "       'mini_dam_tot_damloop_zaandam_1,2_km_8_jr',\n",
       "       'mini_dam_tot_damloop_zaandam_600_m_7_jr',\n",
       "       'mini_dam_tot_damloop_zaandam_600_m_6_jr',\n",
       "       'mini_dam_tot_damloop_zaandam_600_m_5_jr',\n",
       "       'mini_dam_tot_damloop_zaandam_600_m_4_jr',\n",
       "       'mini_dam_tot_damloop_zaandam_600_m_heliomare',\n",
       "       'mini_dam_tot_damloop_molenwijk_1,8_km_8-13_jr',\n",
       "       'mini_dam_tot_damloop_molenwijk_1_km_4-7_jr',\n",
       "       'mini_dam_tot_damloop_zaandam_2,2_km_11-13_jr',\n",
       "       'mini_dam_tot_damloop_zaandam_2,2_km_10_jr',\n",
       "       'mini_dam_tot_damloop_zaandam_600_m_4-5_jr',\n",
       "       'mini_dam_tot_damloop_molenwijk_2,6_km_14-16_jr',\n",
       "       'mini_dam_tot_damloop_zaandam_2,2_km_8_jr',\n",
       "       'mini_dam_tot_damloop_zaandam_2,2_km_9_jr',\n",
       "       'mini_dam_tot_damloop_molenwijk_1_km',\n",
       "       'mini_dam_tot_damloop_molenwijk_1_km_only_friends',\n",
       "       'mizuno_10_km_wedstrijd', 'nk_10_km', 'business_run_10_km',\n",
       "       'mizuno_10_km_recreatieloop', 'mizuno_21,1_km',\n",
       "       'business_run_21,1_km', 'run2day_30_km', 'rabo_kids_run',\n",
       "       '10_km_nederlands_kampioenschap', 'mizuno_10_km_recreatief',\n",
       "       'mizuno_21.1km', 'nn_ehm_halve_marathon_wedstrijd',\n",
       "       'nn_ehm_halve_marathon_businessloop_wedstrijd',\n",
       "       'nn_ehm_halve_marathon_businessloop_recreatie',\n",
       "       'nn_ehm_halve_marathon_recreatie',\n",
       "       'egmond_halve_marathon_local_hero_klassement',\n",
       "       'epe-ehm_combiklassement', 'nn_ehm_kwart_marathon_wedstrijd',\n",
       "       'nn_ehm_kwart_marathon_businessloop',\n",
       "       'nn_ehm_kwart_marathon_recreanten', 'egmond_mini_marathon',\n",
       "       'buff®_kilometer_(10->11km)',\n",
       "       'saucony_ehm_halve_marathon_wedstrijd',\n",
       "       'saucony_ehm_halve_marathon_recreatie',\n",
       "       'saucony_ehm_halve_marathon_businessloop_wedstrijd',\n",
       "       'saucony_ehm_halve_marathon_businessloop_recreatie',\n",
       "       'saucony_ehm_kwart_marathon_wedstrijd',\n",
       "       'saucony_ehm_kwart_marathon_recreanten',\n",
       "       'saucony_ehm_kwart_marathon_businessloop',\n",
       "       'saucony_ehm_egmond_mini_marathon'], dtype=object)"
      ]
     },
     "execution_count": 11,
     "metadata": {},
     "output_type": "execute_result"
    }
   ],
   "source": [
    "race_results['race'].unique()"
   ]
  },
  {
   "cell_type": "code",
   "execution_count": 12,
   "metadata": {},
   "outputs": [
    {
     "data": {
      "image/png": "[encoded data removed]",
      "text/plain": [
       "<Figure size 1080x720 with 1 Axes>"
      ]
     },
     "metadata": {
      "needs_background": "light"
     },
     "output_type": "display_data"
    }
   ],
   "source": [
    "plot = race_results.loc[race_results['race'] == 'tcs_marathon']['chip_time_seconds'].hist(bins=200, figsize=(15, 10))\n",
    "plot.set_xticklabels([str(datetime.timedelta(seconds=i)) for i in plot.get_xticks()]);"
   ]
  },
  {
   "cell_type": "code",
   "execution_count": 13,
   "metadata": {},
   "outputs": [
    {
     "data": {
      "text/plain": [
       "<matplotlib.axes._subplots.AxesSubplot at 0x7f9bcee22190>"
      ]
     },
     "execution_count": 13,
     "metadata": {},
     "output_type": "execute_result"
    },
    {
     "data": {
      "image/png": "[encoded data removed]",
      "text/plain": [
       "<Figure size 432x288 with 1 Axes>"
      ]
     },
     "metadata": {
      "needs_background": "light"
     },
     "output_type": "display_data"
    }
   ],
   "source": [
    "split_columns = [f'split_{n}' for n in ['5k', '10k', '15k', '20k', '25k', '30k', '35k', '40k', 'finish']]\n",
    "race_results.loc[race_results['distance'] == 42195][split_columns].mean().T.plot(marker='o', legend=False)"
   ]
  },
  {
   "cell_type": "code",
   "execution_count": 14,
   "metadata": {},
   "outputs": [
    {
     "data": {
      "text/plain": [
       "<matplotlib.axes._subplots.AxesSubplot at 0x7f9bcee13090>"
      ]
     },
     "execution_count": 14,
     "metadata": {},
     "output_type": "execute_result"
    },
    {
     "data": {
      "image/png": "[encoded data removed]",
      "text/plain": [
       "<Figure size 432x288 with 1 Axes>"
      ]
     },
     "metadata": {
      "needs_background": "light"
     },
     "output_type": "display_data"
    }
   ],
   "source": [
    "split_columns = [f'split_{n}' for n in ['5k', '10k', '15k', '20km', 'finish']]\n",
    "race_results.loc[race_results['distance'] == 21097][split_columns].mean().T.plot(marker='o', legend=False)"
   ]
  },
  {
   "cell_type": "code",
   "execution_count": 15,
   "metadata": {},
   "outputs": [
    {
     "data": {
      "text/plain": [
       "Index(['id', 'hashed_name', 'event_name', 'date', 'race', 'distance',\n",
       "       'category', 'gun_time_seconds', 'chip_time_seconds', 'split_5k',\n",
       "       'split_10k', 'split_15k', 'split_20k', 'split_half', 'split_25k',\n",
       "       'split_30k', 'split_35k', 'split_40k', 'split_finish', 'split_4k',\n",
       "       'split_5km', 'split_3km', 'split_6km', 'split_20km', 'split_24km',\n",
       "       'split_25km', 'split_29km', 'split_10km', 'split_15km', 'split_19,5km'],\n",
       "      dtype='object')"
      ]
     },
     "execution_count": 15,
     "metadata": {},
     "output_type": "execute_result"
    }
   ],
   "source": [
    "race_results.columns"
   ]
  },
  {
   "cell_type": "markdown",
   "metadata": {
    "slideshow": {
     "slide_type": "slide"
    }
   },
   "source": [
    "# Weather data"
   ]
  },
  {
   "cell_type": "code",
   "execution_count": 16,
   "metadata": {},
   "outputs": [],
   "source": [
    "weather_df = pd.read_csv('https://github.com/sportdatavalley/sport-data-challenge-2019/raw/master/data/weather/weather_data.csv')"
   ]
  },
  {
   "cell_type": "code",
   "execution_count": 17,
   "metadata": {},
   "outputs": [
    {
     "data": {
      "text/html": [
       "<div>\n",
       "<style scoped>\n",
       "    .dataframe tbody tr th:only-of-type {\n",
       "        vertical-align: middle;\n",
       "    }\n",
       "\n",
       "    .dataframe tbody tr th {\n",
       "        vertical-align: top;\n",
       "    }\n",
       "\n",
       "    .dataframe thead th {\n",
       "        text-align: right;\n",
       "    }\n",
       "</style>\n",
       "<table border=\"1\" class=\"dataframe\">\n",
       "  <thead>\n",
       "    <tr style=\"text-align: right;\">\n",
       "      <th></th>\n",
       "      <th>STN</th>\n",
       "      <th>YYYYMMDD</th>\n",
       "      <th>HH</th>\n",
       "      <th>DD</th>\n",
       "      <th>FH</th>\n",
       "      <th>FF</th>\n",
       "      <th>FX</th>\n",
       "      <th>T</th>\n",
       "      <th>T10</th>\n",
       "      <th>TD</th>\n",
       "      <th>...</th>\n",
       "      <th>U</th>\n",
       "      <th>WW</th>\n",
       "      <th>IX</th>\n",
       "      <th>M</th>\n",
       "      <th>R</th>\n",
       "      <th>S</th>\n",
       "      <th>O</th>\n",
       "      <th>Y</th>\n",
       "      <th>event_name</th>\n",
       "      <th>date</th>\n",
       "    </tr>\n",
       "  </thead>\n",
       "  <tbody>\n",
       "    <tr>\n",
       "      <th>0</th>\n",
       "      <td>240</td>\n",
       "      <td>20191020</td>\n",
       "      <td>1</td>\n",
       "      <td>200.0</td>\n",
       "      <td>30.0</td>\n",
       "      <td>30.0</td>\n",
       "      <td>50.0</td>\n",
       "      <td>98.0</td>\n",
       "      <td>NaN</td>\n",
       "      <td>88.0</td>\n",
       "      <td>...</td>\n",
       "      <td>93.0</td>\n",
       "      <td>NaN</td>\n",
       "      <td>5</td>\n",
       "      <td>0.0</td>\n",
       "      <td>0.0</td>\n",
       "      <td>0.0</td>\n",
       "      <td>0.0</td>\n",
       "      <td>0.0</td>\n",
       "      <td>amsterdam_marathon</td>\n",
       "      <td>2019-10-20</td>\n",
       "    </tr>\n",
       "    <tr>\n",
       "      <th>1</th>\n",
       "      <td>240</td>\n",
       "      <td>20191020</td>\n",
       "      <td>2</td>\n",
       "      <td>160.0</td>\n",
       "      <td>20.0</td>\n",
       "      <td>20.0</td>\n",
       "      <td>40.0</td>\n",
       "      <td>88.0</td>\n",
       "      <td>NaN</td>\n",
       "      <td>81.0</td>\n",
       "      <td>...</td>\n",
       "      <td>95.0</td>\n",
       "      <td>NaN</td>\n",
       "      <td>5</td>\n",
       "      <td>0.0</td>\n",
       "      <td>0.0</td>\n",
       "      <td>0.0</td>\n",
       "      <td>0.0</td>\n",
       "      <td>0.0</td>\n",
       "      <td>amsterdam_marathon</td>\n",
       "      <td>2019-10-20</td>\n",
       "    </tr>\n",
       "    <tr>\n",
       "      <th>2</th>\n",
       "      <td>240</td>\n",
       "      <td>20191020</td>\n",
       "      <td>3</td>\n",
       "      <td>990.0</td>\n",
       "      <td>20.0</td>\n",
       "      <td>10.0</td>\n",
       "      <td>40.0</td>\n",
       "      <td>80.0</td>\n",
       "      <td>NaN</td>\n",
       "      <td>75.0</td>\n",
       "      <td>...</td>\n",
       "      <td>96.0</td>\n",
       "      <td>NaN</td>\n",
       "      <td>5</td>\n",
       "      <td>0.0</td>\n",
       "      <td>0.0</td>\n",
       "      <td>0.0</td>\n",
       "      <td>0.0</td>\n",
       "      <td>0.0</td>\n",
       "      <td>amsterdam_marathon</td>\n",
       "      <td>2019-10-20</td>\n",
       "    </tr>\n",
       "    <tr>\n",
       "      <th>3</th>\n",
       "      <td>240</td>\n",
       "      <td>20191020</td>\n",
       "      <td>4</td>\n",
       "      <td>160.0</td>\n",
       "      <td>20.0</td>\n",
       "      <td>30.0</td>\n",
       "      <td>40.0</td>\n",
       "      <td>87.0</td>\n",
       "      <td>NaN</td>\n",
       "      <td>83.0</td>\n",
       "      <td>...</td>\n",
       "      <td>96.0</td>\n",
       "      <td>NaN</td>\n",
       "      <td>5</td>\n",
       "      <td>0.0</td>\n",
       "      <td>0.0</td>\n",
       "      <td>0.0</td>\n",
       "      <td>0.0</td>\n",
       "      <td>0.0</td>\n",
       "      <td>amsterdam_marathon</td>\n",
       "      <td>2019-10-20</td>\n",
       "    </tr>\n",
       "    <tr>\n",
       "      <th>4</th>\n",
       "      <td>240</td>\n",
       "      <td>20191020</td>\n",
       "      <td>5</td>\n",
       "      <td>140.0</td>\n",
       "      <td>20.0</td>\n",
       "      <td>30.0</td>\n",
       "      <td>40.0</td>\n",
       "      <td>84.0</td>\n",
       "      <td>NaN</td>\n",
       "      <td>78.0</td>\n",
       "      <td>...</td>\n",
       "      <td>95.0</td>\n",
       "      <td>10.0</td>\n",
       "      <td>7</td>\n",
       "      <td>0.0</td>\n",
       "      <td>0.0</td>\n",
       "      <td>0.0</td>\n",
       "      <td>0.0</td>\n",
       "      <td>0.0</td>\n",
       "      <td>amsterdam_marathon</td>\n",
       "      <td>2019-10-20</td>\n",
       "    </tr>\n",
       "  </tbody>\n",
       "</table>\n",
       "<p>5 rows × 27 columns</p>\n",
       "</div>"
      ],
      "text/plain": [
       "   STN  YYYYMMDD  HH     DD    FH    FF    FX     T  T10    TD  ...     U  \\\n",
       "0  240  20191020   1  200.0  30.0  30.0  50.0  98.0  NaN  88.0  ...  93.0   \n",
       "1  240  20191020   2  160.0  20.0  20.0  40.0  88.0  NaN  81.0  ...  95.0   \n",
       "2  240  20191020   3  990.0  20.0  10.0  40.0  80.0  NaN  75.0  ...  96.0   \n",
       "3  240  20191020   4  160.0  20.0  30.0  40.0  87.0  NaN  83.0  ...  96.0   \n",
       "4  240  20191020   5  140.0  20.0  30.0  40.0  84.0  NaN  78.0  ...  95.0   \n",
       "\n",
       "     WW  IX    M    R    S    O    Y          event_name        date  \n",
       "0   NaN   5  0.0  0.0  0.0  0.0  0.0  amsterdam_marathon  2019-10-20  \n",
       "1   NaN   5  0.0  0.0  0.0  0.0  0.0  amsterdam_marathon  2019-10-20  \n",
       "2   NaN   5  0.0  0.0  0.0  0.0  0.0  amsterdam_marathon  2019-10-20  \n",
       "3   NaN   5  0.0  0.0  0.0  0.0  0.0  amsterdam_marathon  2019-10-20  \n",
       "4  10.0   7  0.0  0.0  0.0  0.0  0.0  amsterdam_marathon  2019-10-20  \n",
       "\n",
       "[5 rows x 27 columns]"
      ]
     },
     "execution_count": 17,
     "metadata": {},
     "output_type": "execute_result"
    }
   ],
   "source": [
    "weather_df.head()"
   ]
  },
  {
   "cell_type": "code",
   "execution_count": 18,
   "metadata": {},
   "outputs": [
    {
     "data": {
      "text/plain": [
       "<matplotlib.axes._subplots.AxesSubplot at 0x7f9bced8e110>"
      ]
     },
     "execution_count": 18,
     "metadata": {},
     "output_type": "execute_result"
    },
    {
     "data": {
      "image/png": "[encoded data removed]",
      "text/plain": [
       "<Figure size 1080x360 with 1 Axes>"
      ]
     },
     "metadata": {
      "needs_background": "light"
     },
     "output_type": "display_data"
    }
   ],
   "source": [
    "weather_df.loc[weather_df['date'] == '2019-10-20'].plot(x='HH', y='T', label='temperature', figsize=(15, 5))"
   ]
  },
  {
   "cell_type": "code",
   "execution_count": 19,
   "metadata": {},
   "outputs": [
    {
     "data": {
      "text/plain": [
       "event_name             date      \n",
       "amsterdam_marathon     2017-10-15    16.045833\n",
       "                       2018-10-16    16.075000\n",
       "                       2018-10-21    12.916667\n",
       "                       2019-10-20    11.325000\n",
       "dam_tot_damloop        2016-09-18    17.304167\n",
       "                       2017-09-17    11.908333\n",
       "                       2018-09-22    12.908333\n",
       "                       2019-09-20    13.004167\n",
       "egmond_halve_marathon  2018-01-08     0.886111\n",
       "                       2018-01-14     2.273611\n",
       "                       2019-01-13     8.750000\n",
       "groet_uit_schoorl_run  2017-02-12    -0.295833\n",
       "                       2018-02-11     4.719444\n",
       "                       2019-02-10     5.975000\n",
       "Name: temperature, dtype: float64"
      ]
     },
     "execution_count": 19,
     "metadata": {},
     "output_type": "execute_result"
    }
   ],
   "source": [
    "weather_df['temperature'] = weather_df['T']/10\n",
    "weather_df.groupby(['event_name', 'date'])['temperature'].mean()"
   ]
  },
  {
   "cell_type": "code",
   "execution_count": 46,
   "metadata": {},
   "outputs": [
    {
     "data": {
      "application/vnd.jupyter.widget-view+json": {
       "model_id": "eddb5da5a23044289c8ca75ac7137575",
       "version_major": 2,
       "version_minor": 0
      },
      "text/plain": [
       "interactive(children=(Dropdown(description='Selecteer event:', options=('amsterdam_marathon', 'dam_tot_damloop…"
      ]
     },
     "metadata": {},
     "output_type": "display_data"
    }
   ],
   "source": [
    "select_event = widgets.Dropdown(\n",
    "    options=weather_df['event_name'].unique(),\n",
    "    value=None,\n",
    "    description='Selecteer event:'\n",
    ")\n",
    "\n",
    "\n",
    "select_date = widgets.Dropdown(\n",
    "    options=[],\n",
    "    value=None,\n",
    "    description='Selecteer datum:'\n",
    ")\n",
    "\n",
    "\n",
    "def change_select_date_options(event_selection):\n",
    "    options = weather_df.loc[weather_df['event_name'] == event_selection.new]['date'].unique()\n",
    "    select_date.options = ['all', *options]\n",
    "\n",
    "select_event.observe(change_select_date_options, 'value')\n",
    "\n",
    "@interact(event=select_event, date=select_date)\n",
    "def plot_course(event, date):\n",
    "    if event is None:\n",
    "        return\n",
    "    subset = weather_df.loc[weather_df['event_name'] == event]\n",
    "    if date == 'all':\n",
    "        dates = subset['date'].unique()\n",
    "    else:\n",
    "        dates = [date]\n",
    "        #subset = subset.loc[subset['date'] == date]\n",
    "    \n",
    "    subset['temp_celsius'] = subset['T']/10\n",
    "    fig, ax = plt.subplots(figsize=(8,6))\n",
    "    for date in dates:\n",
    "        single_date_df = subset.loc[subset['date'] == date]\n",
    "        ax.plot(single_date_df['HH'], single_date_df['temp_celsius'], label=date[:4])\n",
    "    ax.legend()\n",
    "    #subset.groupby('date').plot(x='HH', y='temp_celsius', figsize=(15, 5), ax=ax)"
   ]
  },
  {
   "cell_type": "code",
   "execution_count": null,
   "metadata": {},
   "outputs": [],
   "source": []
  }
 ],
 "metadata": {
  "celltoolbar": "Slideshow",
  "kernelspec": {
   "display_name": "Python 3",
   "language": "python",
   "name": "python3"
  },
  "language_info": {
   "codemirror_mode": {
    "name": "ipython",
    "version": 3
   },
   "file_extension": ".py",
   "mimetype": "text/x-python",
   "name": "python",
   "nbconvert_exporter": "python",
   "pygments_lexer": "ipython3",
   "version": "3.7.4"
  },
  "scroll": true
 },
 "nbformat": 4,
 "nbformat_minor": 2
}
